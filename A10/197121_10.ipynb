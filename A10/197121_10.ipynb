{
 "cells": [
  {
   "cell_type": "markdown",
   "metadata": {},
   "source": [
    "## Data Science lab assignment 10\n",
    "##### Name: Venkata Sai Manoj Boganadham\n",
    "##### Roll no: 197121\n",
    "##### Section: A"
   ]
  },
  {
   "cell_type": "code",
   "execution_count": 1,
   "metadata": {},
   "outputs": [],
   "source": [
    "# importing the required modules\n",
    "import numpy as np\n",
    "import matplotlib.pyplot\n",
    "from sklearn.model_selection import train_test_split\n",
    "from sklearn.datasets import load_iris, load_wine\n",
    "from sklearn.preprocessing import StandardScaler\n",
    "from sklearn.linear_model import LogisticRegression\n",
    "from sklearn.metrics import accuracy_score\n"
   ]
  },
  {
   "cell_type": "markdown",
   "metadata": {},
   "source": [
    "Linear Discriminant analysis is a way to reduce the dimensionality of a dataset\n",
    "\n",
    "Following is a function to transform the dataset using LDA"
   ]
  },
  {
   "cell_type": "code",
   "execution_count": 3,
   "metadata": {},
   "outputs": [],
   "source": [
    "# LDA transform function\n",
    "def ldaTransform(no_comp, X_train, Y_train):\n",
    "    m, n = X_train.shape\n",
    "    uniq_classes = np.unique(Y_train)\n",
    "\n",
    "    # calculating the scatter_t of the X_train\n",
    "    sc_t = np.cov(X_train.T)*(m-1)\n",
    "\n",
    "    # separating the rows according to the class\n",
    "    # calculating the scatter_w of each class in X_train\n",
    "    sc_w = 0\n",
    "    for i in range(len(uniq_classes)):\n",
    "        items = np.flatnonzero(Y_train==uniq_classes[i])\n",
    "        sc_w += np.cov(X_train[items].T)*(len(items)-1)\n",
    "    \n",
    "    # Get the eigen values & vectors for scatter matrices\n",
    "    sc_b = sc_t - sc_w\n",
    "    eigVal, eigVect = np.linalg.eigh(np.linalg.pinv(sc_w).dot(sc_b))\n",
    "    \n",
    "    # Transforming the X_train (transforming all the features)\n",
    "    X_train_transformed = X_train.dot(eigVect[:,::-1][:,:no_comp])\n",
    "\n",
    "    return X_train_transformed\n"
   ]
  },
  {
   "cell_type": "markdown",
   "metadata": {},
   "source": [
    "#### 1. Implement LDA on Iris Dataset"
   ]
  },
  {
   "cell_type": "code",
   "execution_count": 4,
   "metadata": {},
   "outputs": [
    {
     "name": "stdout",
     "output_type": "stream",
     "text": [
      "X_train before LDA transformation: (120, 4)\n",
      "X_train after LDA transformation: (120, 2)\n"
     ]
    }
   ],
   "source": [
    "# Load the required dataset\n",
    "iris = load_iris()\n",
    "X_iris, Y_iris = iris.data, iris.target\n",
    "X_train_iris, X_test_iris, Y_train_iris, Y_test_iris = train_test_split(X_iris, Y_iris, test_size=0.2)\n",
    "\n",
    "\n",
    "# Normalise the X data\n",
    "Scaler = StandardScaler()\n",
    "Scaler.fit(X_train_iris)\n",
    "X_train_iris = Scaler.transform(X_train_iris)\n",
    "Scaler.fit(X_test_iris)\n",
    "X_test_iris = Scaler.transform(X_test_iris)\n",
    "\n",
    "# Transform the data using LDA\n",
    "X_train_iris_transformed = ldaTransform(2, X_train_iris, Y_train_iris)\n",
    "\n",
    "print(\"X_train before LDA transformation:\", X_train_iris.shape)\n",
    "print(\"X_train after LDA transformation:\", X_train_iris_transformed.shape)"
   ]
  },
  {
   "cell_type": "markdown",
   "metadata": {},
   "source": [
    "#### 2. Transform and fit logistic regression to the Wine dataset"
   ]
  },
  {
   "cell_type": "code",
   "execution_count": 10,
   "metadata": {},
   "outputs": [
    {
     "name": "stdout",
     "output_type": "stream",
     "text": [
      "(178,)\n",
      "X_train before LDA transformation: (142, 13)\n",
      "X_train after LDA transformation: (142, 9)\n",
      "-------------------------------------------------------------------------\n",
      "Predictions by the model on test data:\n",
      "[0 1 0 1 1 1 1 2 0 0 0 1 0 1 1 1 1 1 0 0 1 0 0 0 1 0 0 0 0 1 0 0 1 1 1 0]\n"
     ]
    }
   ],
   "source": [
    "# Load the required dataset\n",
    "wine = load_wine()\n",
    "X_wine, Y_wine = wine.data, wine.target\n",
    "print(Y_wine.shape)\n",
    "X_train_wine, X_test_wine, Y_train_wine, Y_test_wine = train_test_split(X_wine, Y_wine, test_size=0.2)\n",
    "\n",
    "\n",
    "# Normalise the X data\n",
    "Scaler = StandardScaler()\n",
    "Scaler.fit(X_train_wine)\n",
    "X_train_wine = Scaler.transform(X_train_wine)\n",
    "Scaler.fit(X_test_wine)\n",
    "X_test_wine = Scaler.transform(X_test_wine)\n",
    "\n",
    "# Transform the data using LDA\n",
    "X_train_wine_transformed = ldaTransform(9, X_train_wine, Y_train_wine)\n",
    "\n",
    "print(\"X_train before LDA transformation:\", X_train_wine.shape)\n",
    "print(\"X_train after LDA transformation:\", X_train_wine_transformed.shape)\n",
    "\n",
    "# Now fit a logistic regression to the transformed wine dataset\n",
    "model = LogisticRegression()\n",
    "model.fit(X_train_wine_transformed, Y_train_wine)\n",
    "\n",
    "# Make predictions using the model\n",
    "X_test_wine_transformed = ldaTransform(9, X_test_wine, Y_test_wine)\n",
    "preds = model.predict(X_test_wine_transformed)\n",
    "print(\"-------------------------------------------------------------------------\")\n",
    "print(\"Predictions by the model on test data:\")\n",
    "print(preds)\n"
   ]
  }
 ],
 "metadata": {
  "interpreter": {
   "hash": "916dbcbb3f70747c44a77c7bcd40155683ae19c65e1c03b4aa3499c5328201f1"
  },
  "kernelspec": {
   "display_name": "Python 3.8.10 64-bit",
   "language": "python",
   "name": "python3"
  },
  "language_info": {
   "codemirror_mode": {
    "name": "ipython",
    "version": 3
   },
   "file_extension": ".py",
   "mimetype": "text/x-python",
   "name": "python",
   "nbconvert_exporter": "python",
   "pygments_lexer": "ipython3",
   "version": "3.8.10"
  },
  "orig_nbformat": 4
 },
 "nbformat": 4,
 "nbformat_minor": 2
}
